{
 "cells": [
  {
   "cell_type": "code",
   "execution_count": 1,
   "metadata": {},
   "outputs": [
    {
     "name": "stdout",
     "output_type": "stream",
     "text": [
      "Requirement already satisfied: ipython-autotime in c:\\users\\d deepak prasanna\\anaconda3\\lib\\site-packages (0.3.1)\n",
      "Requirement already satisfied: ipython in c:\\users\\d deepak prasanna\\anaconda3\\lib\\site-packages (from ipython-autotime) (7.8.0)\n",
      "Requirement already satisfied: pygments in c:\\users\\d deepak prasanna\\anaconda3\\lib\\site-packages (from ipython->ipython-autotime) (2.4.2)\n",
      "Requirement already satisfied: backcall in c:\\users\\d deepak prasanna\\anaconda3\\lib\\site-packages (from ipython->ipython-autotime) (0.1.0)\n",
      "Requirement already satisfied: decorator in c:\\users\\d deepak prasanna\\anaconda3\\lib\\site-packages (from ipython->ipython-autotime) (4.4.0)\n",
      "Requirement already satisfied: jedi>=0.10 in c:\\users\\d deepak prasanna\\anaconda3\\lib\\site-packages (from ipython->ipython-autotime) (0.15.1)\n",
      "Requirement already satisfied: prompt-toolkit<2.1.0,>=2.0.0 in c:\\users\\d deepak prasanna\\anaconda3\\lib\\site-packages (from ipython->ipython-autotime) (2.0.10)\n",
      "Requirement already satisfied: traitlets>=4.2 in c:\\users\\d deepak prasanna\\anaconda3\\lib\\site-packages (from ipython->ipython-autotime) (4.3.3)\n",
      "Requirement already satisfied: colorama; sys_platform == \"win32\" in c:\\users\\d deepak prasanna\\anaconda3\\lib\\site-packages (from ipython->ipython-autotime) (0.4.1)\n",
      "Requirement already satisfied: pickleshare in c:\\users\\d deepak prasanna\\anaconda3\\lib\\site-packages (from ipython->ipython-autotime) (0.7.5)\n",
      "Requirement already satisfied: setuptools>=18.5 in c:\\users\\d deepak prasanna\\anaconda3\\lib\\site-packages (from ipython->ipython-autotime) (41.4.0)\n",
      "Requirement already satisfied: parso>=0.5.0 in c:\\users\\d deepak prasanna\\anaconda3\\lib\\site-packages (from jedi>=0.10->ipython->ipython-autotime) (0.5.1)\n",
      "Requirement already satisfied: six>=1.9.0 in c:\\users\\d deepak prasanna\\anaconda3\\lib\\site-packages (from prompt-toolkit<2.1.0,>=2.0.0->ipython->ipython-autotime) (1.12.0)\n",
      "Requirement already satisfied: wcwidth in c:\\users\\d deepak prasanna\\anaconda3\\lib\\site-packages (from prompt-toolkit<2.1.0,>=2.0.0->ipython->ipython-autotime) (0.1.7)\n",
      "Requirement already satisfied: ipython-genutils in c:\\users\\d deepak prasanna\\anaconda3\\lib\\site-packages (from traitlets>=4.2->ipython->ipython-autotime) (0.2.0)\n",
      "time: 0 ns (started: 2021-06-19 19:47:47 +05:30)\n"
     ]
    }
   ],
   "source": [
    "!pip install ipython-autotime\n",
    "%load_ext autotime"
   ]
  },
  {
   "cell_type": "code",
   "execution_count": 2,
   "metadata": {},
   "outputs": [
    {
     "name": "stdout",
     "output_type": "stream",
     "text": [
      "Requirement already satisfied: bing-image-downloader in c:\\users\\d deepak prasanna\\anaconda3\\lib\\site-packages (1.1.0)\n",
      "time: 5.02 s (started: 2021-06-19 19:47:56 +05:30)\n"
     ]
    }
   ],
   "source": [
    "!pip install bing-image-downloader"
   ]
  },
  {
   "cell_type": "code",
   "execution_count": 3,
   "metadata": {},
   "outputs": [
    {
     "name": "stdout",
     "output_type": "stream",
     "text": [
      "time: 16 ms (started: 2021-06-19 19:48:07 +05:30)\n"
     ]
    }
   ],
   "source": [
    "!mkdir images"
   ]
  },
  {
   "cell_type": "code",
   "execution_count": 4,
   "metadata": {},
   "outputs": [
    {
     "name": "stdout",
     "output_type": "stream",
     "text": [
      "[%] Downloading Images to C:\\Users\\D Deepak Prasanna\\Desktop\\Mini Project\\images\\Bicycle\n",
      "\n",
      "\n",
      "[!!]Indexing page: 1\n",
      "\n",
      "[%] Indexed 50 Images on Page 1.\n",
      "\n",
      "===============================================\n",
      "\n",
      "[%] Downloading Image #1 from https://files.bikeindex.org/uploads/Pu/121865/IMG_0607.JPG\n",
      "[%] File Downloaded !\n",
      "\n",
      "[%] Downloading Image #2 from https://cyclingmagazine.ca/wp-content/uploads/2017/01/14469269097_0e47fe6de2_k.jpg\n",
      "[%] File Downloaded !\n",
      "\n",
      "[%] Downloading Image #3 from https://bikerumor-wpengine.netdna-ssl.com/wp-content/uploads/2017/08/Lauf-True-Grit_lightweight-carbon-race-performance-gravel-road-bike-with-leaf-spring-suspension-gravel-fork_non-driveside-complete-bikepacking.jpg\n",
      "[!] Issue getting: https://bikerumor-wpengine.netdna-ssl.com/wp-content/uploads/2017/08/Lauf-True-Grit_lightweight-carbon-race-performance-gravel-road-bike-with-leaf-spring-suspension-gravel-fork_non-driveside-complete-bikepacking.jpg\n",
      "[!] Error:: HTTP Error 502: Bad Gateway\n",
      "[%] Downloading Image #3 from https://i.pinimg.com/originals/4b/63/54/4b63545aae3d6e8deda29d3414d780c4.jpg\n",
      "[%] File Downloaded !\n",
      "\n",
      "[%] Downloading Image #4 from http://cdn.shoplightspeed.com/shops/607954/files/6857885/true-north-custom-bicycle.jpg\n",
      "[%] File Downloaded !\n",
      "\n",
      "[%] Downloading Image #5 from https://i.pinimg.com/originals/cf/3c/d5/cf3cd5c82ce5f7aa5846ea5ea8dff9fc.jpg\n",
      "[%] File Downloaded !\n",
      "\n",
      "[%] Downloading Image #6 from https://bikerumor.com/wp-content/uploads/2018/03/Lauf-True-Grit-gravel-bike-all-road-review-actual-weight_-2-1068x712.jpg\n",
      "[%] File Downloaded !\n",
      "\n",
      "[%] Downloading Image #7 from https://evbliss.com/wp-content/uploads/2020/06/RadCIty-4-Electric-Bicycle-1068x712.jpg\n",
      "[%] File Downloaded !\n",
      "\n",
      "[%] Downloading Image #8 from https://n4.sdlcdn.com/imgs/g/s/r/Cosmic-FLASH-MTB-BICYCLE-21-SDL736797830-2-c1417.jpeg\n",
      "[%] File Downloaded !\n",
      "\n",
      "[%] Downloading Image #9 from https://i.pinimg.com/originals/c8/d3/31/c8d33122330dd50e296301fc438bf546.jpg\n",
      "[%] File Downloaded !\n",
      "\n",
      "[%] Downloading Image #10 from https://i.pinimg.com/originals/f2/03/c0/f203c0ba9aec2aad0f17c6346acd332a.jpg\n",
      "[%] File Downloaded !\n",
      "\n",
      "[%] Downloading Image #11 from http://static.shoplightspeed.com/shops/607954/files/002242061/pinion-fatbike.jpg\n",
      "[%] File Downloaded !\n",
      "\n",
      "[%] Downloading Image #12 from https://i.pinimg.com/736x/58/4d/ce/584dce4d0e05bf96b1308448694e40a8--stay-true-mountain-bike.jpg\n",
      "[%] File Downloaded !\n",
      "\n",
      "[%] Downloading Image #13 from https://i.pinimg.com/originals/03/46/fe/0346fe99b2ad8a51fb3a2182318d833d.jpg\n",
      "[%] File Downloaded !\n",
      "\n",
      "[%] Downloading Image #14 from https://i.pinimg.com/originals/25/33/1d/25331dd91b9bf116edc1d9bd5c7de771.jpg\n",
      "[%] File Downloaded !\n",
      "\n",
      "[%] Downloading Image #15 from https://i.pinimg.com/originals/d5/01/f0/d501f0d3cebbf81c38f17ff7a2e21f1c.png\n",
      "[%] File Downloaded !\n",
      "\n",
      "[%] Downloading Image #16 from https://thecabe.com/forum/attachments/dscn4925-jpg.344837/\n",
      "[%] File Downloaded !\n",
      "\n",
      "[%] Downloading Image #17 from http://2.bp.blogspot.com/-bkzHMHvodlg/UnpFEw7WEPI/AAAAAAAABX8/qWkCepvVrH0/s1600/DSC_0744.JPG\n",
      "[%] File Downloaded !\n",
      "\n",
      "[%] Downloading Image #18 from https://i.pinimg.com/originals/62/91/b8/6291b8937649fe3c2ad335ef43ea1fd0.jpg\n",
      "[%] File Downloaded !\n",
      "\n",
      "[%] Downloading Image #19 from https://i.pinimg.com/originals/73/a2/06/73a2069bd3de15a5008f9b87c6178df0.jpg\n",
      "[%] File Downloaded !\n",
      "\n",
      "[%] Downloading Image #20 from https://www.cyclingabout.com/wp-content/uploads/2017/12/True-North-titanium-touring-bike-1000x592.jpg\n",
      "[%] File Downloaded !\n",
      "\n",
      "[%] Downloading Image #21 from http://www.cycleexif.com/wp-content/uploads/2016/03/sydney-classic-bicycle-show-9.jpg\n",
      "[%] File Downloaded !\n",
      "\n",
      "[%] Downloading Image #22 from https://i.pinimg.com/originals/05/fa/cd/05facd70d0f919fa65daf69d589c8149.jpg\n",
      "[%] File Downloaded !\n",
      "\n",
      "[%] Downloading Image #23 from http://www.bikepacking.com/wp-content/uploads/2017/08/Lauf-True-Grit-gravel-bike_00-1200x800.jpg\n",
      "[%] File Downloaded !\n",
      "\n",
      "[%] Downloading Image #24 from https://bmxmuseum.com/image/webcoprofile_blowup.jpg\n",
      "[%] File Downloaded !\n",
      "\n",
      "[%] Downloading Image #25 from https://i.pinimg.com/474x/11/f6/3d/11f63d3c23139b20a5a2766fe1699232.jpg\n",
      "[%] File Downloaded !\n",
      "\n",
      "[%] Downloading Image #26 from https://bmxmuseum.com/image/20120131_104228_811_blowup.jpg\n",
      "[%] File Downloaded !\n",
      "\n",
      "[%] Downloading Image #27 from http://2.bp.blogspot.com/_eGu_eT2OhWA/SwMCTKoUWYI/AAAAAAAACWc/W-hN6HOQjGc/s1600/3909617489_463e25229d_b.jpg\n",
      "[%] File Downloaded !\n",
      "\n",
      "[%] Downloading Image #28 from https://truenorthteambuilding.com/wp-content/uploads/2016/02/TNTB_BIKE_BUILD_WS_2014_4-e1455392933920.jpg\n",
      "[%] File Downloaded !\n",
      "\n",
      "[%] Downloading Image #29 from https://thecabe.com/forum/attachments/003_zps76950cbd-1-jpg.540173/\n",
      "[%] File Downloaded !\n",
      "\n",
      "[%] Downloading Image #30 from https://i.pinimg.com/originals/62/5f/0c/625f0c172f3c34619fd5a456b8e270b1.jpg\n",
      "[%] File Downloaded !\n",
      "\n",
      "[%] Downloading Image #31 from https://i.pinimg.com/originals/39/34/6f/39346fa930a198fd1dc2c17f8eb26a33.jpg\n",
      "[%] File Downloaded !\n",
      "\n",
      "[%] Downloading Image #32 from https://i.pinimg.com/originals/d1/bc/a0/d1bca09baec1c4b7c8b3c3de7ed23fe1.jpg\n",
      "[%] File Downloaded !\n",
      "\n",
      "[%] Downloading Image #33 from http://truebikes.eu/images/galery/Truebike_3x10XT_03.jpg\n",
      "[%] File Downloaded !\n",
      "\n",
      "[%] Downloading Image #34 from https://c1.staticflickr.com/3/2292/2223959139_b62f512f70_b.jpg\n",
      "[%] File Downloaded !\n",
      "\n",
      "[%] Downloading Image #35 from https://i.pinimg.com/originals/14/33/0f/14330f07e48ffc01cc14c3fd5156da6f.jpg\n",
      "[%] File Downloaded !\n",
      "\n",
      "[%] Downloading Image #36 from http://www.urbanscooters.com/image?filename=Products/Cruiser Bikes/True_Nice_1Spd-2T.jpg&amp;width=300&amp;height=0\n",
      "[!] Issue getting: http://www.urbanscooters.com/image?filename=Products/Cruiser Bikes/True_Nice_1Spd-2T.jpg&amp;width=300&amp;height=0\n",
      "[!] Error:: URL can't contain control characters. '/image?filename=Products/Cruiser Bikes/True_Nice_1Spd-2T.jpg&amp;width=300&amp;height=0' (found at least ' ')\n",
      "[%] Downloading Image #36 from http://static.shoplightspeed.com/shops/607954/files/002242089/650b-gravel-bike.jpg\n",
      "[%] File Downloaded !\n",
      "\n",
      "[%] Downloading Image #37 from http://4.bp.blogspot.com/-OlxXt2jVMm8/VBY8L4ZGsRI/AAAAAAAAERc/Hv1t4iek9Mo/s1600/Blu01.jpg\n",
      "[%] File Downloaded !\n",
      "\n",
      "[%] Downloading Image #38 from https://www.stgeorgeutah.com/wp-content/uploads/2014/03/DSCF0336.jpg\n",
      "[%] File Downloaded !\n",
      "\n",
      "[%] Downloading Image #39 from https://www.restoration.bike/wp-content/uploads/2020/11/new-bicycle-tire-wobble.jpg\n",
      "[%] File Downloaded !\n",
      "\n",
      "[%] Downloading Image #40 from http://i.ebayimg.com/images/i/252360133281-0-1/s-l1000.jpg\n",
      "[%] File Downloaded !\n",
      "\n",
      "[%] Downloading Image #41 from https://www.fitnessgallery.com/wp-content/uploads/2017/07/TRUE-Fitness_RES900-bike-Fitness-Gallery.png\n",
      "[%] File Downloaded !\n",
      "\n",
      "[%] Downloading Image #42 from https://bikeadvisorpro.com/wp-content/uploads/2019/12/How-True-a-Bike-Wheel.jpg\n",
      "[%] File Downloaded !\n",
      "\n",
      "[%] Downloading Image #43 from https://i.pinimg.com/originals/9f/e9/fb/9fe9fb4188d202269d99e8306b3d8450.jpg\n",
      "[%] File Downloaded !\n",
      "\n",
      "[%] Downloading Image #44 from http://www.truenorthcycles.com/wp-content/gallery/touring/ti_touring.jpg\n",
      "[%] File Downloaded !\n",
      "\n",
      "[%] Downloading Image #45 from https://www.fitnessgallery.com/wp-content/uploads/2017/07/TRUE-Fitness_cs900r-bike-angle_FitnessGallery.png\n",
      "[%] File Downloaded !\n",
      "\n",
      "[%] Downloading Image #46 from https://i.ytimg.com/vi/j9qitEgmbow/maxresdefault.jpg\n",
      "[%] File Downloaded !\n",
      "\n",
      "[%] Downloading Image #47 from https://i.ebayimg.com/images/g/oM0AAOSwvxldcrvn/s-l1600.jpg?fifu-post-id=26256&amp;fifu-featured=1\n",
      "[%] File Downloaded !\n",
      "\n",
      "[%] Downloading Image #48 from https://cdn1.cyclist.co.uk/sites/cyclist/files/styles/insert_main_wide_image/public/9/43/how_to_true_a_wheel_adjust_arms_0.jpg?itok=Uw06wtav\n",
      "[%] File Downloaded !\n",
      "\n",
      "\n",
      "\n",
      "[!!]Indexing page: 2\n",
      "\n",
      "[%] Indexed 35 Images on Page 2.\n",
      "\n",
      "===============================================\n",
      "\n",
      "[%] Downloading Image #49 from https://files.bikeindex.org/uploads/Pu/121865/IMG_0607.JPG\n",
      "[%] File Downloaded !\n",
      "\n",
      "[%] Downloading Image #50 from https://cyclingmagazine.ca/wp-content/uploads/2017/01/14469269097_0e47fe6de2_k.jpg\n",
      "[%] File Downloaded !\n",
      "\n",
      "\n",
      "\n",
      "[%] Done. Downloaded 50 images.\n",
      "===============================================\n",
      "\n",
      "Please show your support here\n",
      "https://www.buymeacoffee.com/gurugaurav\n",
      "\n",
      "===============================================\n",
      "\n",
      "time: 4min 24s (started: 2021-06-19 19:48:33 +05:30)\n"
     ]
    }
   ],
   "source": [
    "from bing_image_downloader import downloader\n",
    "downloader.download(\"Bicycle\" , limit=50,output_dir='images',adult_filter_off=True)"
   ]
  },
  {
   "cell_type": "code",
   "execution_count": 5,
   "metadata": {},
   "outputs": [
    {
     "name": "stdout",
     "output_type": "stream",
     "text": [
      "[%] Downloading Images to C:\\Users\\D Deepak Prasanna\\Desktop\\Mini Project\\images\\Car\n",
      "\n",
      "\n",
      "[!!]Indexing page: 1\n",
      "\n",
      "[%] Indexed 70 Images on Page 1.\n",
      "\n",
      "===============================================\n",
      "\n",
      "[%] Downloading Image #1 from http://www.carbodydesign.com/archive/2009/08/05-sv-9-competizione-images/SV-9-Competizione-4-lg.jpg\n",
      "[%] File Downloaded !\n",
      "\n",
      "[%] Downloading Image #2 from http://jaikrishnaamaruti.com/uploads/truevalue_cars/0_27-01-2018_16-03-53.jpg\n",
      "[%] File Downloaded !\n",
      "\n",
      "[%] Downloading Image #3 from https://icdn-4.motor1.com/images/mgl/8gJ93/s1/amc-amx-the-first-true-sports-car-of-the-1960s.jpg\n",
      "[%] File Downloaded !\n",
      "\n",
      "[%] Downloading Image #4 from https://static.carthrottle.com/workspace/uploads/posts/2017/12/0fcad9c9368abebdbfb8aaf0211bf96b.jpg\n",
      "[%] File Downloaded !\n",
      "\n",
      "[%] Downloading Image #5 from https://daxstreet.com/wp-content/uploads/2020/12/gtr-1024x576.jpg\n",
      "[%] File Downloaded !\n",
      "\n",
      "[%] Downloading Image #6 from http://farm9.staticflickr.com/8012/7170866083_8504026441_o.jpg\n",
      "[%] File Downloaded !\n",
      "\n",
      "[%] Downloading Image #7 from http://smclassiccars.com/uploads/postfotos/1970-pontiac-gto-matching-039s-400-m20-4-speed-posi-true-american-muscle-1.jpg\n",
      "[%] File Downloaded !\n",
      "\n",
      "[%] Downloading Image #8 from https://musclecarwarehouse.com.au/wp-content/uploads/2018/12/IMG_7245-1024x768.jpg\n",
      "[%] File Downloaded !\n",
      "\n",
      "[%] Downloading Image #9 from https://i.ytimg.com/vi/L4ASPTYAokQ/maxresdefault.jpg\n",
      "[%] File Downloaded !\n",
      "\n",
      "[%] Downloading Image #10 from https://static.bangkokpost.com/media/content/20200909/3743947.jpg\n",
      "[%] File Downloaded !\n",
      "\n",
      "[%] Downloading Image #11 from https://dmi3w0goirzgw.cloudfront.net/gallery-images/1600/406000/600/406638.jpg\n",
      "[%] File Downloaded !\n",
      "\n",
      "[%] Downloading Image #12 from https://media.whatcar.com/wc-image/2021-01/true_mpg_award_winner_-_toyota_yaris.jpg\n",
      "[%] File Downloaded !\n",
      "\n",
      "[%] Downloading Image #13 from https://2.bp.blogspot.com/-pFg1wU-N6AM/U1AKuZTk5TI/AAAAAAAAUbg/IUYFPGxrhEA/s1600/boss302-4lr.jpg\n",
      "[%] File Downloaded !\n",
      "\n",
      "[%] Downloading Image #14 from http://jaikrishnaamaruti.com/uploads/truevalue_cars/0_13-08-2020_12-54-32.jpeg\n",
      "[%] File Downloaded !\n",
      "\n",
      "[%] Downloading Image #15 from https://farm5.staticflickr.com/4110/5027971302_35ec2b05d5_z.jpg\n",
      "[%] File Downloaded !\n",
      "\n",
      "[%] Downloading Image #16 from https://i.kinja-img.com/gawker-media/image/upload/c_fill,f_auto,fl_progressive,g_center,h_675,pg_1,q_80,w_1200/cht5zan2fi2af6jifsvk.jpg\n",
      "[%] File Downloaded !\n",
      "\n",
      "[%] Downloading Image #17 from http://jaikrishnaamaruti.com/uploads/truevalue_cars/1_06-03-2018_11-36-40.jpg\n",
      "[%] File Downloaded !\n",
      "\n",
      "[%] Downloading Image #18 from https://media.whatcar.com/migration/article_inline/31e233fabca887757aba0bb56028fce65792efc4.jpg\n",
      "[%] File Downloaded !\n",
      "\n",
      "[%] Downloading Image #19 from https://i.pinimg.com/originals/b3/a6/47/b3a64770647364851c25139fc1d26c92.jpg\n",
      "[%] File Downloaded !\n",
      "\n",
      "[%] Downloading Image #20 from http://st.lowrider.com/uploads/sites/7/2016/07/switch-car-club-2016-day-at-the-bay-true-life-1965-buick-riviera.jpg\n",
      "[%] File Downloaded !\n",
      "\n",
      "[%] Downloading Image #21 from http://i2.cdn.turner.com/money/dam/assets/150216140433-nokia-here-true-car-780x439.jpg\n",
      "[%] File Downloaded !\n",
      "\n",
      "[%] Downloading Image #22 from https://i.pinimg.com/originals/fa/4c/23/fa4c2399643cda2f7495f234a7d59f77.png\n",
      "[%] File Downloaded !\n",
      "\n",
      "[%] Downloading Image #23 from http://jaikrishnaamaruti.com/uploads/truevalue_cars/0_06-03-2018_11-36-40.jpg\n",
      "[%] File Downloaded !\n",
      "\n",
      "[%] Downloading Image #24 from https://cdn.carbuzz.com/gallery-images/840x560/406000/600/406646.jpg\n",
      "[%] File Downloaded !\n",
      "\n",
      "[%] Downloading Image #25 from http://jaikrishnaamaruti.com/uploads/truevalue_cars/1_15-10-2016_11-06-49.jpg\n",
      "[%] File Downloaded !\n",
      "\n",
      "[%] Downloading Image #26 from http://farm8.staticflickr.com/7411/10414280056_61c166f466_z.jpg\n",
      "[%] File Downloaded !\n",
      "\n",
      "[%] Downloading Image #27 from https://musclecarwarehouse.com.au/wp-content/uploads/2018/12/IMG_7244-762x456.jpg\n",
      "[%] File Downloaded !\n",
      "\n",
      "[%] Downloading Image #28 from https://www.restyleitwraps.com/wp-content/uploads/IMG_6397-copy.jpg\n",
      "[%] File Downloaded !\n",
      "\n",
      "[%] Downloading Image #29 from https://i.pinimg.com/originals/4b/cc/60/4bcc60ef5497f1ac8fddb4b88dc31b5f.jpg\n",
      "[%] File Downloaded !\n",
      "\n",
      "[%] Downloading Image #30 from https://s.hdnux.com/photos/56/23/61/12139605/3/920x920.jpg\n",
      "[%] File Downloaded !\n",
      "\n",
      "[%] Downloading Image #31 from http://jaikrishnaamaruti.com/uploads/truevalue_cars/1_06-03-2018_11-56-10.jpg\n",
      "[%] File Downloaded !\n",
      "\n",
      "[%] Downloading Image #32 from https://automotiveimpressions.net/wp-content/uploads/2020/11/Hellcat20-F.jpg\n",
      "[%] File Downloaded !\n",
      "\n",
      "[%] Downloading Image #33 from http://jaikrishnaamaruti.com/uploads/truevalue_cars/0_06-03-2018_14-16-55.jpg\n",
      "[%] File Downloaded !\n",
      "\n",
      "[%] Downloading Image #34 from https://cdn-news.warriortrading.com/wp-content/uploads/2017/02/19182100/TRUE-Logo.jpg\n",
      "[%] File Downloaded !\n",
      "\n",
      "[%] Downloading Image #35 from https://2.bp.blogspot.com/-o_GFAdQ5-PY/TaYDPjhUVCI/AAAAAAAAACA/IKN5XtQGUgc/s1600/1.jpg\n",
      "[%] File Downloaded !\n",
      "\n",
      "[%] Downloading Image #36 from http://www.pomonaswapmeet.com/blog/wp-content/uploads/2015/06/1964_Pontiac_GTO_Hardtop-933x700.jpg\n",
      "[%] File Downloaded !\n",
      "\n",
      "[%] Downloading Image #37 from http://jaikrishnaamaruti.com/uploads/truevalue_cars/0_15-10-2020_10-03-43.jpeg\n",
      "[%] File Downloaded !\n",
      "\n",
      "[%] Downloading Image #38 from https://www.amosauto.com/wp-content/uploads/c07-0812ae.jpg\n",
      "[%] File Downloaded !\n",
      "\n",
      "[%] Downloading Image #39 from http://img07.deviantart.net/a37e/i/2014/203/8/6/true_american_muscle_car_by_toyonda-d7rr5e8.jpg\n",
      "[%] File Downloaded !\n",
      "\n",
      "[%] Downloading Image #40 from http://jaikrishnaamaruti.com/uploads/truevalue_cars/3_10-09-2016_12-41-14.jpg\n",
      "[%] File Downloaded !\n",
      "\n",
      "[%] Downloading Image #41 from http://jaikrishnaamaruti.com/uploads/truevalue_cars/0_17-10-2016_13-07-35.jpg\n",
      "[%] File Downloaded !\n",
      "\n",
      "[%] Downloading Image #42 from https://images.ctfassets.net/h52as2aiqybp/1Rb2TVz3n9Rc0DtZQxqGyT/ad91f459891afbca24931d1b233f9117/TrueCarlogonew.png\n",
      "[%] File Downloaded !\n",
      "\n",
      "[%] Downloading Image #43 from https://i2.wp.com/namastecar.com/wp-content/uploads/2017/11/Get-quality-pre-owned-car-from-Maruti-Suzuki-True-Value.jpg\n",
      "[%] File Downloaded !\n",
      "\n",
      "[%] Downloading Image #44 from https://i.pinimg.com/originals/58/b6/1c/58b61c6bb0431d1aa3d6e26916cc16e1.jpg\n",
      "[%] File Downloaded !\n",
      "\n",
      "[%] Downloading Image #45 from https://static0.hotcarsimages.com/wordpress/wp-content/uploads/2020/06/1966-Dodge-Coronet-Convertible-American-Muscle-Car.jpg\n",
      "[Error]Invalid image, not saving https://static0.hotcarsimages.com/wordpress/wp-content/uploads/2020/06/1966-Dodge-Coronet-Convertible-American-Muscle-Car.jpg\n",
      "\n",
      "[!] Issue getting: https://static0.hotcarsimages.com/wordpress/wp-content/uploads/2020/06/1966-Dodge-Coronet-Convertible-American-Muscle-Car.jpg\n",
      "[!] Error:: Invalid image, not saving https://static0.hotcarsimages.com/wordpress/wp-content/uploads/2020/06/1966-Dodge-Coronet-Convertible-American-Muscle-Car.jpg\n",
      "\n",
      "[%] Downloading Image #45 from https://photos.prnewswire.com/prnfull/20110118/LA31413LOGO\n",
      "[%] File Downloaded !\n",
      "\n",
      "[%] Downloading Image #46 from https://yt3.ggpht.com/a-/AAuE7mALGC_R3AcUGBgtGhF9e-Bdb3JhYeo53mniPA=s900-mo-c-c0xffffffff-rj-k-no\n",
      "[%] File Downloaded !\n",
      "\n",
      "[%] Downloading Image #47 from http://www.thedetroitbureau.com/wp-content/uploads/2011/08/TrueCar-Logo.jpg\n",
      "[%] File Downloaded !\n",
      "\n",
      "[%] Downloading Image #48 from https://pictures.dealer.com/l/lakenormancdjcllc/1738/c34f1576fe349a67beadb84323c0cd7cx.jpg\n",
      "[%] File Downloaded !\n",
      "\n",
      "[%] Downloading Image #49 from https://carcarehunt.com/wp-content/uploads/2020/03/true-cost-of-owning-a-car-1024x626.jpg\n",
      "[%] File Downloaded !\n",
      "\n",
      "[%] Downloading Image #50 from https://i.pinimg.com/originals/e4/e1/86/e4e186b596fa4c54bb6e26e7da5c155c.jpg\n",
      "[%] File Downloaded !\n",
      "\n",
      "[%] Downloading Image #51 from http://www.7men.nl/wp-content/uploads/2016/07/car-brand-logos-banner.jpg\n",
      "[%] File Downloaded !\n",
      "\n",
      "[%] Downloading Image #52 from http://1.bp.blogspot.com/-_oHKcBXFE54/TiCcxzbF5zI/AAAAAAAABLY/Kmvx3cEFZos/s1600/Sharonville+11+053.JPG\n",
      "[%] File Downloaded !\n",
      "\n",
      "[%] Downloading Image #53 from https://ae01.alicdn.com/kf/HTB1RdUBXiDxK1Rjy1zcq6yGeXXaO/FX1835-True-Romance-Car-Racing-Game-Movie-1993-classic-Film-Poster-Art-Silk-Light-Canvas-Home.jpg\n",
      "[!] Issue getting: https://ae01.alicdn.com/kf/HTB1RdUBXiDxK1Rjy1zcq6yGeXXaO/FX1835-True-Romance-Car-Racing-Game-Movie-1993-classic-Film-Poster-Art-Silk-Light-Canvas-Home.jpg\n",
      "[!] Error:: <urlopen error [WinError 10060] A connection attempt failed because the connected party did not properly respond after a period of time, or established connection failed because connected host has failed to respond>\n",
      "[%] Downloading Image #53 from https://media.bizj.us/view/img/10428487/bloomberg-car-dealership*1200xx4000-2250-0-209.jpg\n"
     ]
    },
    {
     "name": "stdout",
     "output_type": "stream",
     "text": [
      "[%] File Downloaded !\n",
      "\n",
      "[%] Downloading Image #54 from https://i.pinimg.com/originals/63/82/d8/6382d84958424f5809b6efe73ffeb1a8.jpg\n",
      "[%] File Downloaded !\n",
      "\n",
      "[%] Downloading Image #55 from https://www.confused.com/static/cmsmedia/custom-cms-widgets/external/supercars/resources/images/photos/makingof-image2.jpg\n",
      "[%] File Downloaded !\n",
      "\n",
      "[%] Downloading Image #56 from https://www.truevehiclesales.co.uk/dist/img/hero/2019-02/hero-lg-4.jpg\n",
      "[!] Issue getting: https://www.truevehiclesales.co.uk/dist/img/hero/2019-02/hero-lg-4.jpg\n",
      "[!] Error:: HTTP Error 403: Forbidden\n",
      "[%] Downloading Image #56 from http://jaikrishnaamaruti.com/uploads/truevalue_cars/1_10-02-2018_12-35-46.jpg\n",
      "[%] File Downloaded !\n",
      "\n",
      "[%] Downloading Image #57 from http://jaikrishnaamaruti.com/uploads/truevalue_cars/3_29-09-2016_12-43-24.jpg\n",
      "[%] File Downloaded !\n",
      "\n",
      "[%] Downloading Image #58 from http://jaikrishnaamaruti.com/uploads/truevalue_cars/1_06-03-2018_14-04-15.jpg\n",
      "[%] File Downloaded !\n",
      "\n",
      "[%] Downloading Image #59 from https://i.kinja-img.com/gawker-media/image/upload/s--2JkorUVh--/c_fill,fl_progressive,g_center,h_900,q_80,w_1600/kbpdw4hzla2vi1yjmobq.jpg\n",
      "[%] File Downloaded !\n",
      "\n",
      "[%] Downloading Image #60 from https://live.staticflickr.com/4313/36276869226_f119fc9a80.jpg\n",
      "[%] File Downloaded !\n",
      "\n",
      "[%] Downloading Image #61 from http://4.bp.blogspot.com/-C1yjZ2oJIIg/VDkc7HeZ1TI/AAAAAAAAhKc/WO-AK3L1Z84/w1200-h630-p-k-no-nu/Cactus.JPG\n",
      "[%] File Downloaded !\n",
      "\n",
      "[%] Downloading Image #62 from https://lh5.googleusercontent.com/proxy/1mQLVBVj1cIuXiaAQKSlllJ08B7QcLoGhlaph6smmp0vELgPw3EJ9o_0i0NvhxP1sUuv1FYwIYW7BuuvF_LfSMGy_7mEHkF80mI0ldea1RWzfQ63PtT9=s0-d\n",
      "[%] File Downloaded !\n",
      "\n",
      "[%] Downloading Image #63 from https://pbs.twimg.com/media/CiwFV09WgAAARpY.jpg:large\n",
      "[%] File Downloaded !\n",
      "\n",
      "[%] Downloading Image #64 from http://jaikrishnaamaruti.com/uploads/truevalue_cars/2_10-09-2016_12-41-14.jpg\n",
      "[%] File Downloaded !\n",
      "\n",
      "[%] Downloading Image #65 from https://i.pinimg.com/originals/00/16/71/00167103d4ad92dec0c8ffccb64ffd3c.jpg\n",
      "[%] File Downloaded !\n",
      "\n",
      "[%] Downloading Image #66 from https://i.pinimg.com/originals/54/fe/41/54fe41a04ae68d89cf3da278b95c0124.jpg\n",
      "[%] File Downloaded !\n",
      "\n",
      "[%] Downloading Image #67 from https://d39a3h63xew422.cloudfront.net/wp-content/uploads/2015/05/20190325/japanese-nostalgic-car-s-first-true-california-touge-1476934624664.jpg\n",
      "[%] File Downloaded !\n",
      "\n",
      "\n",
      "\n",
      "[!!]Indexing page: 2\n",
      "\n",
      "[%] Indexed 35 Images on Page 2.\n",
      "\n",
      "===============================================\n",
      "\n",
      "[%] Downloading Image #68 from http://www.carbodydesign.com/archive/2009/08/05-sv-9-competizione-images/SV-9-Competizione-4-lg.jpg\n",
      "[%] File Downloaded !\n",
      "\n",
      "[%] Downloading Image #69 from http://jaikrishnaamaruti.com/uploads/truevalue_cars/0_27-01-2018_16-03-53.jpg\n",
      "[%] File Downloaded !\n",
      "\n",
      "[%] Downloading Image #70 from https://icdn-4.motor1.com/images/mgl/8gJ93/s1/amc-amx-the-first-true-sports-car-of-the-1960s.jpg\n",
      "[%] File Downloaded !\n",
      "\n",
      "\n",
      "\n",
      "[%] Done. Downloaded 70 images.\n",
      "===============================================\n",
      "\n",
      "Please show your support here\n",
      "https://www.buymeacoffee.com/gurugaurav\n",
      "\n",
      "===============================================\n",
      "\n",
      "time: 7min 31s (started: 2021-06-19 19:53:02 +05:30)\n"
     ]
    }
   ],
   "source": [
    "from bing_image_downloader import downloader\n",
    "downloader.download(\"Car\" , limit=70,output_dir='images',adult_filter_off=True)"
   ]
  },
  {
   "cell_type": "code",
   "execution_count": 6,
   "metadata": {},
   "outputs": [
    {
     "name": "stdout",
     "output_type": "stream",
     "text": [
      "[%] Downloading Images to C:\\Users\\D Deepak Prasanna\\Desktop\\Mini Project\\images\\Lorry\n",
      "\n",
      "\n",
      "[!!]Indexing page: 1\n",
      "\n",
      "[%] Indexed 70 Images on Page 1.\n",
      "\n",
      "===============================================\n",
      "\n",
      "[%] Downloading Image #1 from https://rideontoys.org/wp-content/uploads/2020/09/kids-24v-lorry-truck-with-trailer-13--1024x683.jpg\n",
      "[%] File Downloaded !\n",
      "\n",
      "[%] Downloading Image #2 from https://hawkmoto.com/wp-content/uploads/2020/07/mercedes_across_lorry_24v-scaled.jpg\n",
      "[%] File Downloaded !\n",
      "\n",
      "[%] Downloading Image #3 from https://outsideplay.co.uk/wp-content/uploads/2020/09/kids-electric-lorry-truck-with-trailer-scania-10--2048x1365.jpg\n",
      "[%] File Downloaded !\n",
      "\n",
      "[%] Downloading Image #4 from https://rideontoys.org/wp-content/uploads/2020/09/kids-electric-lorry-truck-with-trailer-scania-13--1024x683.jpg\n",
      "[%] File Downloaded !\n",
      "\n",
      "[%] Downloading Image #5 from https://rideontoys.org/wp-content/uploads/2020/09/kids-electric-lorry-truck-with-trailer-scania-9--900x600.jpg\n",
      "[%] File Downloaded !\n",
      "\n",
      "[%] Downloading Image #6 from https://rideontoys.org/wp-content/uploads/2020/09/kids-24v-lorry-truck-with-trailer-6-.jpg\n",
      "[%] File Downloaded !\n",
      "\n",
      "[%] Downloading Image #7 from https://hawkmoto.com/wp-content/uploads/2020/09/24v-kids-lorry-electric-ride-on-12-.jpg\n",
      "[%] File Downloaded !\n",
      "\n",
      "[%] Downloading Image #8 from https://rideontoys.org/wp-content/uploads/2020/09/24v_scania_lorry_kids_childrens_ride_on_electric_truck-4--900x900.jpg\n",
      "[%] File Downloaded !\n",
      "\n",
      "[%] Downloading Image #9 from https://rideontoys.org/wp-content/uploads/2020/09/kids-electric-lorry-truck-with-trailer-scania-3--900x600.jpg\n",
      "[%] File Downloaded !\n",
      "\n",
      "[%] Downloading Image #10 from https://rideontoys.org/wp-content/uploads/2020/09/kids-electric-lorry-truck-with-trailer-scania-11--900x600.jpg\n",
      "[%] File Downloaded !\n",
      "\n",
      "[%] Downloading Image #11 from https://outsideplay.co.uk/wp-content/uploads/2020/09/kids-24v-lorry-truck-with-trailer-7--1200x1202.jpg\n",
      "[%] File Downloaded !\n",
      "\n",
      "[%] Downloading Image #12 from https://rideontoys.org/wp-content/uploads/2020/09/24v_scania_lorry_kids_childrens_ride_on_electric_truck-2-.jpg\n",
      "[%] File Downloaded !\n",
      "\n",
      "[%] Downloading Image #13 from https://rideontoys.org/wp-content/uploads/2020/09/kids-electric-lorry-truck-with-trailer-scania-2--2048x917.jpg\n",
      "[%] File Downloaded !\n",
      "\n",
      "[%] Downloading Image #14 from https://rideontoys.org/wp-content/uploads/2020/09/24v_scania_lorry_kids_childrens_ride_on_electric_truck-6--900x900.jpg\n",
      "[%] File Downloaded !\n",
      "\n",
      "[%] Downloading Image #15 from https://rideontoys.org/wp-content/uploads/2020/09/kids-24v-lorry-truck-with-trailer-8--900x600.jpg\n",
      "[%] File Downloaded !\n",
      "\n",
      "[%] Downloading Image #16 from https://outsideplay.co.uk/wp-content/uploads/2020/09/kids-electric-lorry-truck-with-trailer-scania-4--1024x683.jpg\n",
      "[%] File Downloaded !\n",
      "\n",
      "[%] Downloading Image #17 from https://outsideplay.co.uk/wp-content/uploads/2020/09/kids-24v-lorry-truck-with-trailer-16-.jpg\n",
      "[%] File Downloaded !\n",
      "\n",
      "[%] Downloading Image #18 from https://rideontoys.org/wp-content/uploads/2020/09/24v_scania_lorry_kids_childrens_ride_on_electric_truck-5-.jpg\n",
      "[%] File Downloaded !\n",
      "\n",
      "[%] Downloading Image #19 from https://rideontoys.org/wp-content/uploads/2020/09/24v_scania_lorry_kids_childrens_ride_on_electric_truck-13-.jpg\n",
      "[%] File Downloaded !\n",
      "\n",
      "[%] Downloading Image #20 from https://rideontoys.org/wp-content/uploads/2020/09/kids-24v-lorry-truck-with-trailer-5--1024x461.jpg\n",
      "[%] File Downloaded !\n",
      "\n",
      "[%] Downloading Image #21 from https://rideontoys.org/wp-content/uploads/2020/09/kids-24v-lorry-truck-with-trailer-4--1024x683.jpg\n",
      "[%] File Downloaded !\n",
      "\n",
      "[%] Downloading Image #22 from https://www.rvoc.co.uk/forum/media/terrys-old-lorry-that-is-true-back-in-the-80s.1244/full?d=1412206885\n",
      "[%] File Downloaded !\n",
      "\n",
      "[%] Downloading Image #23 from https://rideontoys.org/wp-content/uploads/2020/09/24v_scania_lorry_kids_childrens_ride_on_electric_truck-12-.jpg\n",
      "[%] File Downloaded !\n",
      "\n",
      "[%] Downloading Image #24 from https://outsideplay.co.uk/wp-content/uploads/2020/09/kids-24v-lorry-truck-with-trailer-10--1024x683.jpg\n",
      "[%] File Downloaded !\n",
      "\n",
      "[%] Downloading Image #25 from https://hawkmoto.com/wp-content/uploads/2020/09/24v_scania_lorry_kids_childrens_ride_on_electric_truck-13-1-1.jpg\n",
      "[%] File Downloaded !\n",
      "\n",
      "[%] Downloading Image #26 from https://outsideplay.co.uk/wp-content/uploads/2020/09/24v-kids-lorry-electric-ride-on-8-.jpg\n",
      "[%] File Downloaded !\n",
      "\n",
      "[%] Downloading Image #27 from https://www.epicplay.co.uk/wp-content/uploads/2019/10/img_6610.jpg\n",
      "[%] File Downloaded !\n",
      "\n",
      "[%] Downloading Image #28 from https://outsideplay.co.uk/wp-content/uploads/2020/09/img_7730-2048x1365.jpg\n",
      "[%] File Downloaded !\n",
      "\n",
      "[%] Downloading Image #29 from https://outsideplay.co.uk/wp-content/uploads/2020/09/kids-electric-lorry-truck-with-trailer-scania-3--768x512.jpg\n",
      "[%] File Downloaded !\n",
      "\n",
      "[%] Downloading Image #30 from https://www.thesun.ie/wp-content/uploads/sites/3/2019/12/NINTCHDBPICT000545379428.jpg?strip=all&amp;w=720\n",
      "[%] File Downloaded !\n",
      "\n",
      "[%] Downloading Image #31 from https://rideontoys.org/wp-content/uploads/2020/09/kids-24v-lorry-truck-with-trailer-1--1024x683.jpg\n",
      "[%] File Downloaded !\n",
      "\n",
      "[%] Downloading Image #32 from https://outsideplay.co.uk/wp-content/uploads/2020/09/kids-24v-lorry-truck-with-trailer-18--1024x683.jpg\n",
      "[%] File Downloaded !\n",
      "\n",
      "[%] Downloading Image #33 from https://rideontoys.org/wp-content/uploads/2020/09/kids-24v-lorry-truck-with-trailer-1--900x600.jpg\n",
      "[%] File Downloaded !\n",
      "\n",
      "[%] Downloading Image #34 from http://home.bt.com/images/true-grit-pcso-commandeers-lorry-to-track-down-missing-boy-136415831047503901-170222092005.jpg\n",
      "[%] File Downloaded !\n",
      "\n",
      "[%] Downloading Image #35 from https://rideontoys.org/wp-content/uploads/2020/09/24v_scania_lorry_kids_childrens_ride_on_electric_truck-8--900x900.jpg\n",
      "[%] File Downloaded !\n",
      "\n",
      "[%] Downloading Image #36 from https://outsideplay.co.uk/wp-content/uploads/2020/09/img_7731-1024x683.jpg\n",
      "[%] File Downloaded !\n",
      "\n",
      "[%] Downloading Image #37 from https://www.carmarthenshireherald.com/wp-content/uploads/2018/12/gritter1-1000x600.jpg\n",
      "[%] File Downloaded !\n",
      "\n",
      "[%] Downloading Image #38 from https://machinerysales.cheffins.co.uk/images/lot/6948/694833_0.jpg?1563562836\n",
      "[%] File Downloaded !\n",
      "\n",
      "[%] Downloading Image #39 from https://www.mariammokhtar.com/wp-content/uploads/2018/04/7-Lorry.jpg\n",
      "[%] File Downloaded !\n",
      "\n",
      "[%] Downloading Image #40 from https://upload.wikimedia.org/wikipedia/commons/f/f6/National_blood_service_lorry.jpg\n",
      "[%] File Downloaded !\n",
      "\n",
      "[%] Downloading Image #41 from https://live.staticflickr.com/3802/13705440913_3d1932cafa_b.jpg\n",
      "[%] File Downloaded !\n",
      "\n",
      "[%] Downloading Image #42 from https://newsontheflipside.com/wp-content/uploads/2020/10/ccelebritiesfotoPRI_169746579_1603470101-1140x630.jpg\n",
      "[!] Issue getting: https://newsontheflipside.com/wp-content/uploads/2020/10/ccelebritiesfotoPRI_169746579_1603470101-1140x630.jpg\n",
      "[!] Error:: HTTP Error 522: \n",
      "[%] Downloading Image #42 from https://rideontoys.org/wp-content/uploads/2020/09/24v_scania_lorry_kids_childrens_ride_on_electric_truck-9-.jpg\n",
      "[%] File Downloaded !\n",
      "\n",
      "[%] Downloading Image #43 from https://rideontoys.org/wp-content/uploads/2020/09/24v_scania_lorry_kids_childrens_ride_on_electric_truck-7-.jpg\n",
      "[%] File Downloaded !\n",
      "\n",
      "[%] Downloading Image #44 from https://www.thesun.ie/wp-content/uploads/sites/3/2019/12/NINTCHDBPICT000545379428.jpg?w=670\n",
      "[%] File Downloaded !\n",
      "\n",
      "[%] Downloading Image #45 from http://cdn.thinglink.me/api/image/666922379779244032/1024/10/scaletowidth/0/0/1/1/false/true?wait=true\n",
      "[%] File Downloaded !\n",
      "\n",
      "[%] Downloading Image #46 from https://outsideplay.co.uk/wp-content/uploads/2020/09/kids-24v-lorry-truck-with-trailer-17--1024x683.jpg\n",
      "[%] File Downloaded !\n",
      "\n",
      "[%] Downloading Image #47 from https://www.ashworthpublishing.com/wp-content/uploads/2015/03/Lorry-Crane.jpg\n",
      "[%] File Downloaded !\n",
      "\n",
      "[%] Downloading Image #48 from https://rideontoys.org/wp-content/uploads/2020/09/kids-electric-lorry-truck-with-trailer-scania-7-1-1-1024x683.jpg\n",
      "[%] File Downloaded !\n",
      "\n",
      "[%] Downloading Image #49 from https://upload.wikimedia.org/wikipedia/commons/d/df/Lorry.JPG\n",
      "[%] File Downloaded !\n",
      "\n",
      "[%] Downloading Image #50 from https://live.staticflickr.com/3802/13705440913_3d1932cafa.jpg\n",
      "[%] File Downloaded !\n",
      "\n",
      "[%] Downloading Image #51 from https://www.newburytoday.co.uk/resizer/600/315/true/1530794539750.jpg--bin_lorry_stuck_in_newbury_road.jpg?1530794539000\n"
     ]
    },
    {
     "name": "stdout",
     "output_type": "stream",
     "text": [
      "[!] Issue getting: https://www.newburytoday.co.uk/resizer/600/315/true/1530794539750.jpg--bin_lorry_stuck_in_newbury_road.jpg?1530794539000\n",
      "[!] Error:: HTTP Error 404: Not Found\n",
      "[%] Downloading Image #51 from https://outsideplay.co.uk/wp-content/uploads/2020/09/img_7730-1536x1024.jpg\n",
      "[%] File Downloaded !\n",
      "\n",
      "[%] Downloading Image #52 from https://images.locanto.sg/3477128889/10-28-footer-lorry-for-sales-3-5T-34T_3.jpg\n",
      "[%] File Downloaded !\n",
      "\n",
      "[%] Downloading Image #53 from https://www.unilad.co.uk/wp-content/uploads/2019/12/SWNS_SPROUT_LORRY_08.jpg\n",
      "[%] File Downloaded !\n",
      "\n",
      "[%] Downloading Image #54 from http://theequineagency.co.uk/stock/lorry1.JPG\n",
      "[%] File Downloaded !\n",
      "\n",
      "[%] Downloading Image #55 from https://www.britishhardwoods.co.uk/wordpress/wp-content/uploads/2012/04/lbsa-delivery-lorry-open-with-hardwood.jpg\n",
      "[%] File Downloaded !\n",
      "\n",
      "[%] Downloading Image #56 from https://upload.wikimedia.org/wikipedia/commons/1/11/Sentinel_steam_lorry.jpg\n",
      "[%] File Downloaded !\n",
      "\n",
      "[%] Downloading Image #57 from https://outsideplay.co.uk/wp-content/uploads/2020/09/kids-electric-lorry-truck-with-trailer-scania-8--1024x683.jpg\n",
      "[%] File Downloaded !\n",
      "\n",
      "[%] Downloading Image #58 from https://machinerysales.cheffins.co.uk/images/lot/4061/406130_0.jpg?1538761925\n",
      "[%] File Downloaded !\n",
      "\n",
      "[%] Downloading Image #59 from https://resources.mynewsdesk.com/image/upload/t_open_graph_image/fb0zns36cf0bq6wm6cru.jpg\n",
      "[%] File Downloaded !\n",
      "\n",
      "[%] Downloading Image #60 from http://upload.wikimedia.org/wikipedia/commons/3/31/Sentinel_Steam_Lorry_-_Flickr_-_mick_-_Lumix.jpg\n",
      "[%] File Downloaded !\n",
      "\n",
      "[%] Downloading Image #61 from https://machinerysales.cheffins.co.uk/images/lot/6948/694833_8.jpg?1569659157\n",
      "[%] File Downloaded !\n",
      "\n",
      "[%] Downloading Image #62 from https://contentwire.excaliburpress.co.uk/wp-content/uploads/2018/06/DSC06356-777x437.jpg\n",
      "[!] Issue getting: https://contentwire.excaliburpress.co.uk/wp-content/uploads/2018/06/DSC06356-777x437.jpg\n",
      "[!] Error:: HTTP Error 403: Forbidden\n",
      "[%] Downloading Image #62 from https://i.ytimg.com/vi/sVDPz7UPL9w/hq720.jpg?sqp=-oaymwEhCK4FEIIDSFryq4qpAxMIARUAAAAAGAElAADIQj0AgKJD&amp;rs=AOn4CLBrp7A5WNBGciK9qviiticicurnNA\n",
      "[%] File Downloaded !\n",
      "\n",
      "[%] Downloading Image #63 from http://alansmeccano.org/models/pic120_lorry_and_trailer_1947_htm_files/22.jpg\n",
      "[%] File Downloaded !\n",
      "\n",
      "[%] Downloading Image #64 from https://static.wixstatic.com/media/456019_5ffe6165c5e4480da76d739b1d16b28c~mv2_d_3024_4032_s_4_2.jpg/v1/fill/w_1000,h_1333,al_c,q_90,usm_0.66_1.00_0.01/456019_5ffe6165c5e4480da76d739b1d16b28c~mv2_d_3024_4032_s_4_2.jpg\n",
      "[%] File Downloaded !\n",
      "\n",
      "[%] Downloading Image #65 from https://viessmanndirect.co.uk/imagecache/72c8e471-0dee-430f-8d84-aafc0122380f_1000x409.png\n",
      "[%] File Downloaded !\n",
      "\n",
      "[%] Downloading Image #66 from https://i0.wp.com/metro.co.uk/wp-content/uploads/2020/10/PRI_169746841.jpg?quality=90&amp;strip=all&amp;zoom=1&amp;resize=768%2C316&amp;ssl=1\n",
      "[%] File Downloaded !\n",
      "\n",
      "[%] Downloading Image #67 from https://www.teachersource.com/images/popup/eng418_8.jpg\n",
      "[%] File Downloaded !\n",
      "\n",
      "\n",
      "\n",
      "[!!]Indexing page: 2\n",
      "\n",
      "[%] Indexed 35 Images on Page 2.\n",
      "\n",
      "===============================================\n",
      "\n",
      "[%] Downloading Image #68 from https://rideontoys.org/wp-content/uploads/2020/09/kids-24v-lorry-truck-with-trailer-13--1024x683.jpg\n",
      "[%] File Downloaded !\n",
      "\n",
      "[%] Downloading Image #69 from https://hawkmoto.com/wp-content/uploads/2020/07/mercedes_across_lorry_24v-scaled.jpg\n",
      "[%] File Downloaded !\n",
      "\n",
      "[%] Downloading Image #70 from https://outsideplay.co.uk/wp-content/uploads/2020/09/kids-electric-lorry-truck-with-trailer-scania-10--2048x1365.jpg\n",
      "[%] File Downloaded !\n",
      "\n",
      "\n",
      "\n",
      "[%] Done. Downloaded 70 images.\n",
      "===============================================\n",
      "\n",
      "Please show your support here\n",
      "https://www.buymeacoffee.com/gurugaurav\n",
      "\n",
      "===============================================\n",
      "\n",
      "time: 7min 5s (started: 2021-06-19 20:00:34 +05:30)\n"
     ]
    }
   ],
   "source": [
    "from bing_image_downloader import downloader\n",
    "downloader.download(\"Lorry\" , limit=70,output_dir='images',adult_filter_off=True)"
   ]
  },
  {
   "cell_type": "code",
   "execution_count": 7,
   "metadata": {},
   "outputs": [
    {
     "name": "stdout",
     "output_type": "stream",
     "text": [
      "time: 1min 39s (started: 2021-06-19 20:10:53 +05:30)\n"
     ]
    }
   ],
   "source": [
    "#preprocessing\n",
    "import os\n",
    "import matplotlib.pyplot as plt\n",
    "import numpy as np\n",
    "from skimage.io import imread\n",
    "from skimage.transform import resize\n",
    "\n",
    "target = []\n",
    "images = []\n",
    "flat_data = []\n",
    "\n",
    "DATADIR = r'C:\\Users\\D Deepak Prasanna\\Desktop\\Mini Project\\images'\n",
    "CATEGORIES = ['Bicycle','Car','Lorry']\n",
    "\n",
    "for category in CATEGORIES:\n",
    "    class_num  = CATEGORIES.index(category)\n",
    "    path = os.path.join(DATADIR,category)  \n",
    "    for img in os.listdir(path):\n",
    "        img_array = imread(os.path.join(path,img))\n",
    "        img_resized = resize(img_array,(150,150,3))\n",
    "        flat_data.append(img_resized.flatten())\n",
    "        images.append(img_resized)\n",
    "        target.append(class_num)        \n",
    "flat_data = np.array(flat_data)\n",
    "target = np.array(target)\n",
    "images = np.array(images)"
   ]
  },
  {
   "cell_type": "code",
   "execution_count": 8,
   "metadata": {},
   "outputs": [
    {
     "name": "stdout",
     "output_type": "stream",
     "text": [
      "time: 1.95 s (started: 2021-06-19 20:12:50 +05:30)\n"
     ]
    }
   ],
   "source": [
    "from sklearn.model_selection import train_test_split\n",
    "x_train,x_test,y_train,y_test = train_test_split(flat_data,target,test_size=0.3,random_state=109)"
   ]
  },
  {
   "cell_type": "code",
   "execution_count": 9,
   "metadata": {},
   "outputs": [
    {
     "name": "stdout",
     "output_type": "stream",
     "text": [
      "time: 1.72 s (started: 2021-06-19 20:12:57 +05:30)\n"
     ]
    }
   ],
   "source": [
    "from sklearn.ensemble import RandomForestClassifier\n",
    "classifier = RandomForestClassifier(n_estimators=100)\n",
    "\n",
    "# Train the model using the training sets\n",
    "classifier.fit(x_train, y_train)\n",
    "y_pred = classifier.predict(x_test)"
   ]
  },
  {
   "cell_type": "code",
   "execution_count": 10,
   "metadata": {},
   "outputs": [
    {
     "data": {
      "text/plain": [
       "array([2, 1, 1, 0, 2, 1, 0, 0, 1, 1, 2, 0, 2, 0, 0, 1, 1, 2, 0, 1, 1, 0,\n",
       "       1, 0, 0, 1, 1, 1, 1, 2, 1, 2, 1, 2, 2, 1, 0, 2, 1, 1, 1, 1, 1, 1,\n",
       "       0])"
      ]
     },
     "execution_count": 10,
     "metadata": {},
     "output_type": "execute_result"
    },
    {
     "name": "stdout",
     "output_type": "stream",
     "text": [
      "time: 16 ms (started: 2021-06-19 20:13:06 +05:30)\n"
     ]
    }
   ],
   "source": [
    "y_pred"
   ]
  },
  {
   "cell_type": "code",
   "execution_count": 11,
   "metadata": {},
   "outputs": [
    {
     "data": {
      "text/plain": [
       "array([2, 1, 2, 0, 2, 1, 0, 2, 1, 2, 2, 0, 1, 0, 0, 0, 1, 2, 0, 1, 1, 0,\n",
       "       2, 0, 0, 1, 2, 1, 1, 2, 1, 2, 1, 2, 2, 1, 0, 2, 2, 1, 1, 1, 1, 2,\n",
       "       0])"
      ]
     },
     "execution_count": 11,
     "metadata": {},
     "output_type": "execute_result"
    },
    {
     "name": "stdout",
     "output_type": "stream",
     "text": [
      "time: 0 ns (started: 2021-06-19 20:13:10 +05:30)\n"
     ]
    }
   ],
   "source": [
    "y_test"
   ]
  },
  {
   "cell_type": "code",
   "execution_count": 12,
   "metadata": {},
   "outputs": [
    {
     "name": "stdout",
     "output_type": "stream",
     "text": [
      "time: 0 ns (started: 2021-06-19 20:13:25 +05:30)\n"
     ]
    }
   ],
   "source": [
    "from sklearn.metrics import accuracy_score,confusion_matrix"
   ]
  },
  {
   "cell_type": "code",
   "execution_count": 13,
   "metadata": {},
   "outputs": [
    {
     "data": {
      "text/plain": [
       "0.8"
      ]
     },
     "execution_count": 13,
     "metadata": {},
     "output_type": "execute_result"
    },
    {
     "name": "stdout",
     "output_type": "stream",
     "text": [
      "time: 15 ms (started: 2021-06-19 20:13:53 +05:30)\n"
     ]
    }
   ],
   "source": [
    "accuracy_score(y_pred,y_test)"
   ]
  },
  {
   "cell_type": "code",
   "execution_count": 14,
   "metadata": {},
   "outputs": [
    {
     "data": {
      "text/plain": [
       "array([[11,  0,  1],\n",
       "       [ 1, 16,  6],\n",
       "       [ 0,  1,  9]], dtype=int64)"
      ]
     },
     "execution_count": 14,
     "metadata": {},
     "output_type": "execute_result"
    },
    {
     "name": "stdout",
     "output_type": "stream",
     "text": [
      "time: 0 ns (started: 2021-06-19 20:14:15 +05:30)\n"
     ]
    }
   ],
   "source": [
    "confusion_matrix(y_pred,y_test)"
   ]
  },
  {
   "cell_type": "code",
   "execution_count": 15,
   "metadata": {},
   "outputs": [
    {
     "name": "stdout",
     "output_type": "stream",
     "text": [
      "time: 16 ms (started: 2021-06-19 20:15:04 +05:30)\n"
     ]
    }
   ],
   "source": [
    "import pickle\n",
    "pickle.dump(classifier,open('img_model.p','wb'))"
   ]
  },
  {
   "cell_type": "code",
   "execution_count": 16,
   "metadata": {},
   "outputs": [
    {
     "name": "stdout",
     "output_type": "stream",
     "text": [
      "time: 15 ms (started: 2021-06-19 20:15:12 +05:30)\n"
     ]
    }
   ],
   "source": [
    "model = pickle.load(open('img_model.p','rb'))"
   ]
  },
  {
   "cell_type": "code",
   "execution_count": 22,
   "metadata": {},
   "outputs": [
    {
     "name": "stdout",
     "output_type": "stream",
     "text": [
      "Enter the urlhttps://encrypted-tbn0.gstatic.com/images?q=tbn:ANd9GcRgVDYdBWuLWCxg_RcWaLxRkKz9Z3llNETlVQ&usqp=CAU\n",
      "(168, 299, 3)\n",
      " Predicted output: Car\n"
     ]
    },
    {
     "data": {
      "image/png": "[encoded data removed]",
      "text/plain": [
       "<Figure size 432x288 with 1 Axes>"
      ]
     },
     "metadata": {
      "needs_background": "light"
     },
     "output_type": "display_data"
    },
    {
     "name": "stdout",
     "output_type": "stream",
     "text": [
      "time: 2.75 s (started: 2021-06-19 20:19:28 +05:30)\n"
     ]
    }
   ],
   "source": [
    "flat_data = []\n",
    "url = input(\"Enter the url\")\n",
    "img = imread(url)\n",
    "img_resized = resize(img,(150,150,3))\n",
    "flat_data.append(img_resized.flatten())\n",
    "flat_data = np.array(flat_data)\n",
    "print(img.shape)\n",
    "plt.imshow(img_resized)\n",
    "y_out = model.predict(flat_data)\n",
    "y_out = CATEGORIES[y_out[0]]\n",
    "print(f' Predicted output: {y_out}')\n"
   ]
  },
  {
   "cell_type": "code",
   "execution_count": null,
   "metadata": {},
   "outputs": [],
   "source": []
  }
 ],
 "metadata": {
  "kernelspec": {
   "display_name": "Python 3",
   "language": "python",
   "name": "python3"
  },
  "language_info": {
   "codemirror_mode": {
    "name": "ipython",
    "version": 3
   },
   "file_extension": ".py",
   "mimetype": "text/x-python",
   "name": "python",
   "nbconvert_exporter": "python",
   "pygments_lexer": "ipython3",
   "version": "3.7.4"
  }
 },
 "nbformat": 4,
 "nbformat_minor": 2
}
